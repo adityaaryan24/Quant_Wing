{
 "cells": [
  {
   "cell_type": "code",
   "execution_count": 1,
   "metadata": {},
   "outputs": [],
   "source": [
    "#importing libraries\n",
    "import pandas as pd\n",
    "import numpy as np\n",
    "import pandas_datareader.data as web\n",
    "import datetime as dt\n",
    "import matplotlib.pyplot as plt\n",
    "from matplotlib import style\n",
    "import requests\n",
    "style.use('ggplot')"
   ]
  },
  {
   "cell_type": "code",
   "execution_count": 2,
   "metadata": {},
   "outputs": [],
   "source": [
    "#portfolio value for allocating using crossover \n",
    "co_portfolio = 1e5\n",
    "\n",
    "#portfolio value for allocating using divergence \n",
    "div_portfolio = 1e5\n",
    "\n",
    "#transaction cost as fraction\n",
    "tscost = 0.005\n",
    "\n",
    "#list of stocks in portfolio\n",
    "stock_list = ['BHEL.NS','ITC.NS','LUPIN.NS','RELIANCE.NS','IBVENTURES.NS']\n",
    "\n",
    "#calculating the no. of stocks in the portfolio\n",
    "nstocks=0\n",
    "for stock in stock_list:\n",
    "    nstocks+=1"
   ]
  },
  {
   "cell_type": "code",
   "execution_count": 4,
   "metadata": {},
   "outputs": [],
   "source": [
    "#Function to read stock data\n",
    "def readData(ticker,n):\n",
    "    df = web.DataReader(ticker, 'yahoo',start='1/1/2015')['Adj Close']\n",
    "    stocks.append(df)"
   ]
  },
  {
   "cell_type": "code",
   "execution_count": null,
   "metadata": {},
   "outputs": [],
   "source": [
    "#Plotting the stock prices\n",
    "for ticker in stock_list:\n",
    "    readData "
   ]
  },
  {
   "cell_type": "code",
   "execution_count": 7,
   "metadata": {},
   "outputs": [],
   "source": [
    "#Function to make MACD lines and signal lines\n",
    "def MACDlines(df):\n",
    "    df['12 day EMA'] = df['Adj Close'].ewm(span=12).mean()\n",
    "    df['26 day EMA'] = df['Adj Close'].ewm(span=26).mean()\n",
    "    #MACD line definition\n",
    "    df['MACD line'] = df['12 day EMA'] - df['26 day EMA']\n",
    "    #Signal line calculation\n",
    "    df['Signal Line'] = df['Adj Close'].ewm(span=9).mean()\n",
    "    #Initializing positions of crossover and divergence as 0 for each day\n",
    "    df['cross_pos'] = 0\n",
    "    df['div_pos'] = 0"
   ]
  },
  {
   "cell_type": "code",
   "execution_count": 27,
   "metadata": {},
   "outputs": [],
   "source": [
    "#Defines the Position based on a MACD Zero crossover strategy as defined below:\n",
    "\n",
    "########################################################################################################################\n",
    "#Entry:  - When MACD line crosses zero line(>0), then long/buy the stock. Similar for squaring off the short position. #\n",
    "#                                                                                                                      #\n",
    "#Exit: -   When MACD line crosses zero line(<0), then short/sell the stock. Similar for squaring off the long position.#                           \n",
    "#                                                                                                                      #\n",
    "########################################################################################################################\n",
    "\n",
    "\n",
    "def MACDcross(df1):\n",
    "    for row in range(len(df1)):\n",
    "        if(df1['cross_pos'].iloc[row-1]==0):\n",
    "            if (df1['MACD line'].iloc[row] < 0):\n",
    "                df1['cross_pos'].iloc[row] = -1\n",
    "\n",
    "            if (df1['MACD line'].iloc[row] > 0):\n",
    "                df1['cross_pos'].iloc[row] = 1\n",
    "\n",
    "            \n",
    "        elif (df1['cross_pos'].iloc[row-1]==1):\n",
    "            if (df1['MACD line'].iloc[row] < 0):\n",
    "                df1['cross_pos'].iloc[row] = 0\n",
    "            if (df1['MACD line'].iloc[row] > 0):\n",
    "                df1['cross_pos'].iloc[row] = 1\n",
    "\n",
    "        else:\n",
    "            if (df1['MACD line'].iloc[row] > 0):\n",
    "                df1['cross_pos'].iloc[row] = 0\n",
    "            if (df1['MACD line'].iloc[row] < 0):\n",
    "                df1['cross_pos'].iloc[row] = -1"
   ]
  },
  {
   "cell_type": "code",
   "execution_count": 28,
   "metadata": {},
   "outputs": [],
   "source": [
    "#Defines the position based on a MACD divergence strategy as defined below:\n",
    "\n",
    "########################################################################################################################\n",
    "#Entry: MACD forms a lower high but price forms a higher high, go long. Similar for squaring off short position.\n",
    "\n",
    "#Exit: MACD forms a higher low but price forms a lower low, go short. Similar for squaring off short position.\n",
    "\n",
    "########################################################################################################################\n",
    "\n",
    "def divergence(df):\n",
    "    for row in range(1,len(df)):\n",
    "        if(df['div_pos'].iloc[row-1]==0):\n",
    "            if(df['MACD line'].rolling(20).max()[row]<=df['MACD line'].rolling(20).max()[row-1] and \n",
    "               df['Adj Close'].rolling(20).max()[row]>df['Adj Close'].rolling(20).max()[row-1]):\n",
    "                df['div_pos'].iloc[row] = 1\n",
    "            \n",
    "            elif(df['MACD line'].rolling(20).min()[row]>=df['MACD line'].rolling(20).min()[row-1] and \n",
    "            df['Adj Close'].rolling(20).min()[row]<df['Adj Close'].rolling(20).min()[row-1]):\n",
    "                df[div_pos].iloc[row] = -1\n",
    "                \n",
    "        elif(df['div_pos'].iloc[row-1]==1):\n",
    "            if(df['MACD line'].rolling(20).min()[row]>=df['MACD line'].rolling(20).min()[row-1] and \n",
    "               df['Adj Close'].rolling(20).min()[row]<f['Adj Close'].rolling(20).min()[row-1]):\n",
    "                df['div_pos'].iloc[row]=0\n",
    "                \n",
    "            elif(df['MACD line'].rolling(20).max()[row]<=df['MACD line'].rolling(20).max()[row-1] and \n",
    "                 df['Adj Close'].rolling(20).max()[row]>df['Adj Close'].rolling(20).max()[row-1]):\n",
    "                df['div_pos'].iloc[row]=1\n",
    "        \n",
    "        else:\n",
    "            if(df['MACD line'].rolling(20).min()[row]>=df['MACD line'].rolling(20).min()[row-1] and \n",
    "               df['Adj Close'].rolling(20).min()[row]<f['Adj Close'].rolling(20).min()[row-1]):\n",
    "                df['div_pos'].iloc[row]=-1\n",
    "                \n",
    "            elif(df['MACD line'].rolling(20).max()[row]<=df['MACD line'].rolling(20).max()[row-1] and \n",
    "                 df['Adj Close'].rolling(20).max()[row]>df['Adj Close'].rolling(20).max()[row-1]):\n",
    "                df['div_pos'].iloc[row]=0"
   ]
  },
  {
   "cell_type": "code",
   "execution_count": null,
   "metadata": {},
   "outputs": [],
   "source": []
  },
  {
   "cell_type": "code",
   "execution_count": 29,
   "metadata": {},
   "outputs": [
    {
     "name": "stderr",
     "output_type": "stream",
     "text": [
      "C:\\Users\\adity\\Anaconda3\\lib\\site-packages\\pandas\\core\\indexing.py:190: SettingWithCopyWarning: \n",
      "A value is trying to be set on a copy of a slice from a DataFrame\n",
      "\n",
      "See the caveats in the documentation: http://pandas.pydata.org/pandas-docs/stable/indexing.html#indexing-view-versus-copy\n",
      "  self._setitem_with_indexer(indexer, value)\n",
      "C:\\Users\\adity\\Anaconda3\\lib\\site-packages\\pandas\\core\\indexing.py:190: SettingWithCopyWarning: \n",
      "A value is trying to be set on a copy of a slice from a DataFrame\n",
      "\n",
      "See the caveats in the documentation: http://pandas.pydata.org/pandas-docs/stable/indexing.html#indexing-view-versus-copy\n",
      "  self._setitem_with_indexer(indexer, value)\n",
      "C:\\Users\\adity\\Anaconda3\\lib\\site-packages\\pandas\\core\\indexing.py:190: SettingWithCopyWarning: \n",
      "A value is trying to be set on a copy of a slice from a DataFrame\n",
      "\n",
      "See the caveats in the documentation: http://pandas.pydata.org/pandas-docs/stable/indexing.html#indexing-view-versus-copy\n",
      "  self._setitem_with_indexer(indexer, value)\n",
      "C:\\Users\\adity\\Anaconda3\\lib\\site-packages\\pandas\\core\\indexing.py:190: SettingWithCopyWarning: \n",
      "A value is trying to be set on a copy of a slice from a DataFrame\n",
      "\n",
      "See the caveats in the documentation: http://pandas.pydata.org/pandas-docs/stable/indexing.html#indexing-view-versus-copy\n",
      "  self._setitem_with_indexer(indexer, value)\n",
      "C:\\Users\\adity\\Anaconda3\\lib\\site-packages\\pandas\\core\\indexing.py:190: SettingWithCopyWarning: \n",
      "A value is trying to be set on a copy of a slice from a DataFrame\n",
      "\n",
      "See the caveats in the documentation: http://pandas.pydata.org/pandas-docs/stable/indexing.html#indexing-view-versus-copy\n",
      "  self._setitem_with_indexer(indexer, value)\n"
     ]
    }
   ],
   "source": [
    "#Iterating over all the tickers to read data, generate MACD and signal lines and formulate portfolio positions based on strategy\n",
    "i = 0\n",
    "stocks = []\n",
    "for ticker in stock_list:\n",
    "    readData(ticker,i)\n",
    "    i+=1"
   ]
  },
  {
   "cell_type": "code",
   "execution_count": null,
   "metadata": {},
   "outputs": [],
   "source": []
  },
  {
   "cell_type": "code",
   "execution_count": 30,
   "metadata": {},
   "outputs": [],
   "source": [
    "\n",
    "# setting the dimensions of the weights vector depending on the available data points\n",
    "s = (len(stocks[0]),nstocks) \n",
    "\n",
    "#Inititializing the weight vector of each stock each day to be 0\n",
    "co_weights = np.zeros(s)\n",
    "div_weights = np.zeros(s)\n",
    "\n",
    "#Giving weights for crossover portfolio\n",
    "sumwts=0\n",
    "for row in range(len(stocks[0])):\n",
    "    \n",
    "    # Calculating no. of position taken that day\n",
    "    sumwts = 0\n",
    "    for i in range(nstocks):\n",
    "        sumwts+=np.abs(stocks[i]['cross_pos'].iloc[row]) \n",
    "    \n",
    "    \n",
    "    #Calculating weights for each day\n",
    "    for i in range(nstocks):\n",
    "        if sumwts>0:\n",
    "            co_weights[row][i]=(co_portfolio*stocks[i]['cross_pos'].iloc[row])/((sumwts*stocks[i]['Adj Close'].iloc[row])*(1+tscost))\n",
    "\n",
    "\n",
    "\n",
    "#Giving weights for divergence portfolio\n",
    "sumwts=0\n",
    "for row in range(len(stocks[0])):\n",
    "    \n",
    "    # Calculating no. of position taken that day\n",
    "    sumwts = 0\n",
    "    for i in range(nstocks):\n",
    "        sumwts+=np.abs(stocks[i]['div_pos'].iloc[row]) \n",
    "    \n",
    "    \n",
    "    #Calculating weights for each day\n",
    "    for i in range(nstocks):\n",
    "        if sumwts>0:\n",
    "            div_weights[row][i]=(div_portfolio*stocks[i]['div_pos'].iloc[row])/((sumwts*stocks[i]['Adj Close'].iloc[row])*(1+tscost))\n",
    "\n",
    "\n",
    "            \n",
    "#Calculating market return\n",
    "for i in range(nstocks):\n",
    "    stocks[i]['Market Return'] = (stocks[i]['Adj Close'] - stocks[i]['Adj Close'].shift(1))\n",
    "\n",
    "    \n",
    "#Calculating portfolio return for crossover\n",
    "stocks[0]['Crossover Strategy Return']=0\n",
    "for i in range(nstocks):\n",
    "    stocks[0]['Crossover Strategy Return']+=stocks[i]['Market Return'] * co_weights[:,i]\n",
    "\n",
    "    \n",
    "    \n",
    "#Calculating portfolio return for divergence\n",
    "stocks[0]['Divergence Strategy Return']=0\n",
    "for i in range(nstocks):\n",
    "    stocks[0]['Divergence Strategy Return']+=stocks[i]['Market Return'] * div_weights[:,i]"
   ]
  },
  {
   "cell_type": "code",
   "execution_count": 31,
   "metadata": {},
   "outputs": [
    {
     "data": {
      "text/plain": [
       "<matplotlib.legend.Legend at 0x2089e187e80>"
      ]
     },
     "execution_count": 31,
     "metadata": {},
     "output_type": "execute_result"
    },
    {
     "data": {
      "image/png": "[encoded data removed]",
      "text/plain": [
       "<Figure size 432x288 with 1 Axes>"
      ]
     },
     "metadata": {
      "needs_background": "light"
     },
     "output_type": "display_data"
    }
   ],
   "source": [
    "#Plotting both strategy returns\n",
    "stocks[0]['Crossover Strategy Return'].cumsum().plot(label='Crossover Strategy Return')\n",
    "stocks[0]['Divergence Strategy Return'].cumsum().plot(label='Divergence Strategy Return')\n",
    "plt.ylabel('Return')\n",
    "plt.xlabel('Date')\n",
    "plt.title('MACD Crossover and Divergence Strategy PnL')\n",
    "plt.legend()"
   ]
  },
  {
   "cell_type": "code",
   "execution_count": null,
   "metadata": {},
   "outputs": [],
   "source": []
  },
  {
   "cell_type": "code",
   "execution_count": null,
   "metadata": {},
   "outputs": [],
   "source": []
  },
  {
   "cell_type": "code",
   "execution_count": null,
   "metadata": {},
   "outputs": [],
   "source": []
  }
 ],
 "metadata": {
  "kernelspec": {
   "display_name": "Python 3",
   "language": "python",
   "name": "python3"
  },
  "language_info": {
   "codemirror_mode": {
    "name": "ipython",
    "version": 3
   },
   "file_extension": ".py",
   "mimetype": "text/x-python",
   "name": "python",
   "nbconvert_exporter": "python",
   "pygments_lexer": "ipython3",
   "version": "3.7.0"
  }
 },
 "nbformat": 4,
 "nbformat_minor": 2
}
