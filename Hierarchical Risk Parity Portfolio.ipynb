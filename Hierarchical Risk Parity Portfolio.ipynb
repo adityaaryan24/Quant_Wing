{
 "cells": [
  {
   "cell_type": "code",
   "execution_count": 2,
   "metadata": {},
   "outputs": [],
   "source": [
    "import numpy as np\n",
    "import pandas as pd\n",
    "from pandas_datareader import data as wb\n",
    "import matplotlib.pyplot as plt\n",
    "from pypfopt.hierarchical_risk_parity import HRPOpt\n",
    "from pypfopt.efficient_frontier import EfficientFrontier\n",
    "from pypfopt import risk_models\n",
    "from pypfopt import expected_returns"
   ]
  },
  {
   "cell_type": "code",
   "execution_count": 3,
   "metadata": {},
   "outputs": [
    {
     "data": {
      "text/html": [
       "<div>\n",
       "<style scoped>\n",
       "    .dataframe tbody tr th:only-of-type {\n",
       "        vertical-align: middle;\n",
       "    }\n",
       "\n",
       "    .dataframe tbody tr th {\n",
       "        vertical-align: top;\n",
       "    }\n",
       "\n",
       "    .dataframe thead th {\n",
       "        text-align: right;\n",
       "    }\n",
       "</style>\n",
       "<table border=\"1\" class=\"dataframe\">\n",
       "  <thead>\n",
       "    <tr style=\"text-align: right;\">\n",
       "      <th></th>\n",
       "      <th>PG</th>\n",
       "      <th>MSFT</th>\n",
       "      <th>F</th>\n",
       "      <th>GE</th>\n",
       "      <th>AAPL</th>\n",
       "      <th>JPM</th>\n",
       "      <th>CSCO</th>\n",
       "    </tr>\n",
       "    <tr>\n",
       "      <th>Date</th>\n",
       "      <th></th>\n",
       "      <th></th>\n",
       "      <th></th>\n",
       "      <th></th>\n",
       "      <th></th>\n",
       "      <th></th>\n",
       "      <th></th>\n",
       "    </tr>\n",
       "  </thead>\n",
       "  <tbody>\n",
       "    <tr>\n",
       "      <th>1999-12-31</th>\n",
       "      <td>29.575182</td>\n",
       "      <td>37.683807</td>\n",
       "      <td>15.649628</td>\n",
       "      <td>27.181803</td>\n",
       "      <td>3.204494</td>\n",
       "      <td>28.782553</td>\n",
       "      <td>41.768326</td>\n",
       "    </tr>\n",
       "    <tr>\n",
       "      <th>2000-01-03</th>\n",
       "      <td>28.934061</td>\n",
       "      <td>37.623280</td>\n",
       "      <td>15.374426</td>\n",
       "      <td>26.347469</td>\n",
       "      <td>3.488905</td>\n",
       "      <td>26.999557</td>\n",
       "      <td>42.133854</td>\n",
       "    </tr>\n",
       "    <tr>\n",
       "      <th>2000-01-04</th>\n",
       "      <td>28.377323</td>\n",
       "      <td>36.352352</td>\n",
       "      <td>14.860723</td>\n",
       "      <td>25.293573</td>\n",
       "      <td>3.194754</td>\n",
       "      <td>26.407143</td>\n",
       "      <td>39.770073</td>\n",
       "    </tr>\n",
       "    <tr>\n",
       "      <th>2000-01-05</th>\n",
       "      <td>27.837446</td>\n",
       "      <td>36.735657</td>\n",
       "      <td>14.915769</td>\n",
       "      <td>25.249657</td>\n",
       "      <td>3.241507</td>\n",
       "      <td>26.244143</td>\n",
       "      <td>39.648232</td>\n",
       "    </tr>\n",
       "    <tr>\n",
       "      <th>2000-01-06</th>\n",
       "      <td>29.119656</td>\n",
       "      <td>35.505081</td>\n",
       "      <td>14.934105</td>\n",
       "      <td>25.587238</td>\n",
       "      <td>2.960991</td>\n",
       "      <td>26.616730</td>\n",
       "      <td>38.990265</td>\n",
       "    </tr>\n",
       "  </tbody>\n",
       "</table>\n",
       "</div>"
      ],
      "text/plain": [
       "                   PG       MSFT          F         GE      AAPL        JPM  \\\n",
       "Date                                                                          \n",
       "1999-12-31  29.575182  37.683807  15.649628  27.181803  3.204494  28.782553   \n",
       "2000-01-03  28.934061  37.623280  15.374426  26.347469  3.488905  26.999557   \n",
       "2000-01-04  28.377323  36.352352  14.860723  25.293573  3.194754  26.407143   \n",
       "2000-01-05  27.837446  36.735657  14.915769  25.249657  3.241507  26.244143   \n",
       "2000-01-06  29.119656  35.505081  14.934105  25.587238  2.960991  26.616730   \n",
       "\n",
       "                 CSCO  \n",
       "Date                   \n",
       "1999-12-31  41.768326  \n",
       "2000-01-03  42.133854  \n",
       "2000-01-04  39.770073  \n",
       "2000-01-05  39.648232  \n",
       "2000-01-06  38.990265  "
      ]
     },
     "execution_count": 3,
     "metadata": {},
     "output_type": "execute_result"
    }
   ],
   "source": [
    "tickers = ['PG', 'MSFT', 'F', 'GE', 'AAPL','JPM', 'CSCO']\n",
    "df = pd.DataFrame()\n",
    "for t in tickers:\n",
    "    df[t] = wb.DataReader(t, data_source='yahoo', start='2000-1-1')['Adj Close']\n",
    "    \n",
    "df.head()"
   ]
  },
  {
   "cell_type": "code",
   "execution_count": 4,
   "metadata": {},
   "outputs": [
    {
     "data": {
      "text/html": [
       "<div>\n",
       "<style scoped>\n",
       "    .dataframe tbody tr th:only-of-type {\n",
       "        vertical-align: middle;\n",
       "    }\n",
       "\n",
       "    .dataframe tbody tr th {\n",
       "        vertical-align: top;\n",
       "    }\n",
       "\n",
       "    .dataframe thead th {\n",
       "        text-align: right;\n",
       "    }\n",
       "</style>\n",
       "<table border=\"1\" class=\"dataframe\">\n",
       "  <thead>\n",
       "    <tr style=\"text-align: right;\">\n",
       "      <th></th>\n",
       "      <th>PG</th>\n",
       "      <th>MSFT</th>\n",
       "      <th>F</th>\n",
       "      <th>GE</th>\n",
       "      <th>AAPL</th>\n",
       "      <th>JPM</th>\n",
       "      <th>CSCO</th>\n",
       "    </tr>\n",
       "    <tr>\n",
       "      <th>Date</th>\n",
       "      <th></th>\n",
       "      <th></th>\n",
       "      <th></th>\n",
       "      <th></th>\n",
       "      <th></th>\n",
       "      <th></th>\n",
       "      <th></th>\n",
       "    </tr>\n",
       "  </thead>\n",
       "  <tbody>\n",
       "    <tr>\n",
       "      <th>2000-01-03</th>\n",
       "      <td>-0.021678</td>\n",
       "      <td>-0.001606</td>\n",
       "      <td>-0.017585</td>\n",
       "      <td>-0.030695</td>\n",
       "      <td>0.088754</td>\n",
       "      <td>-0.061947</td>\n",
       "      <td>0.008751</td>\n",
       "    </tr>\n",
       "    <tr>\n",
       "      <th>2000-01-04</th>\n",
       "      <td>-0.019242</td>\n",
       "      <td>-0.033780</td>\n",
       "      <td>-0.033413</td>\n",
       "      <td>-0.040000</td>\n",
       "      <td>-0.084310</td>\n",
       "      <td>-0.021942</td>\n",
       "      <td>-0.056102</td>\n",
       "    </tr>\n",
       "    <tr>\n",
       "      <th>2000-01-05</th>\n",
       "      <td>-0.019025</td>\n",
       "      <td>0.010544</td>\n",
       "      <td>0.003704</td>\n",
       "      <td>-0.001736</td>\n",
       "      <td>0.014634</td>\n",
       "      <td>-0.006173</td>\n",
       "      <td>-0.003064</td>\n",
       "    </tr>\n",
       "    <tr>\n",
       "      <th>2000-01-06</th>\n",
       "      <td>0.046061</td>\n",
       "      <td>-0.033498</td>\n",
       "      <td>0.001229</td>\n",
       "      <td>0.013370</td>\n",
       "      <td>-0.086539</td>\n",
       "      <td>0.014197</td>\n",
       "      <td>-0.016595</td>\n",
       "    </tr>\n",
       "    <tr>\n",
       "      <th>2000-01-07</th>\n",
       "      <td>0.079953</td>\n",
       "      <td>0.013068</td>\n",
       "      <td>0.073710</td>\n",
       "      <td>0.038722</td>\n",
       "      <td>0.047368</td>\n",
       "      <td>0.018373</td>\n",
       "      <td>0.058750</td>\n",
       "    </tr>\n",
       "  </tbody>\n",
       "</table>\n",
       "</div>"
      ],
      "text/plain": [
       "                  PG      MSFT         F        GE      AAPL       JPM  \\\n",
       "Date                                                                     \n",
       "2000-01-03 -0.021678 -0.001606 -0.017585 -0.030695  0.088754 -0.061947   \n",
       "2000-01-04 -0.019242 -0.033780 -0.033413 -0.040000 -0.084310 -0.021942   \n",
       "2000-01-05 -0.019025  0.010544  0.003704 -0.001736  0.014634 -0.006173   \n",
       "2000-01-06  0.046061 -0.033498  0.001229  0.013370 -0.086539  0.014197   \n",
       "2000-01-07  0.079953  0.013068  0.073710  0.038722  0.047368  0.018373   \n",
       "\n",
       "                CSCO  \n",
       "Date                  \n",
       "2000-01-03  0.008751  \n",
       "2000-01-04 -0.056102  \n",
       "2000-01-05 -0.003064  \n",
       "2000-01-06 -0.016595  \n",
       "2000-01-07  0.058750  "
      ]
     },
     "execution_count": 4,
     "metadata": {},
     "output_type": "execute_result"
    }
   ],
   "source": [
    "returns = df.pct_change().dropna(how = \"all\")\n",
    "S = risk_models.sample_cov(df)\n",
    "(returns.head())"
   ]
  },
  {
   "cell_type": "code",
   "execution_count": 5,
   "metadata": {},
   "outputs": [],
   "source": [
    "hrp = HRPOpt(returns)\n",
    "weights = hrp.hrp_portfolio()"
   ]
  },
  {
   "cell_type": "code",
   "execution_count": 6,
   "metadata": {},
   "outputs": [
    {
     "name": "stdout",
     "output_type": "stream",
     "text": [
      "{'AAPL': 0.07421110496377352, 'CSCO': 0.07136027574692291, 'F': 0.079083034610729, 'GE': 0.13836117962131061, 'JPM': 0.08135661390223477, 'MSFT': 0.11608139804285669, 'PG': 0.43954639311217253}\n"
     ]
    }
   ],
   "source": [
    "print(weights)"
   ]
  },
  {
   "cell_type": "code",
   "execution_count": 7,
   "metadata": {},
   "outputs": [
    {
     "data": {
      "text/plain": [
       "dict"
      ]
     },
     "execution_count": 7,
     "metadata": {},
     "output_type": "execute_result"
    }
   ],
   "source": [
    "type(weights)"
   ]
  },
  {
   "cell_type": "code",
   "execution_count": 8,
   "metadata": {},
   "outputs": [
    {
     "ename": "AttributeError",
     "evalue": "'HRPOpt' object has no attribute 'portfolio_performance'",
     "output_type": "error",
     "traceback": [
      "\u001b[1;31m---------------------------------------------------------------------------\u001b[0m",
      "\u001b[1;31mAttributeError\u001b[0m                            Traceback (most recent call last)",
      "\u001b[1;32m<ipython-input-8-f417f15f92f0>\u001b[0m in \u001b[0;36m<module>\u001b[1;34m()\u001b[0m\n\u001b[1;32m----> 1\u001b[1;33m \u001b[0mhrp\u001b[0m\u001b[1;33m.\u001b[0m\u001b[0mportfolio_performance\u001b[0m\u001b[1;33m(\u001b[0m\u001b[0mverbose\u001b[0m \u001b[1;33m=\u001b[0m \u001b[1;32mTrue\u001b[0m\u001b[1;33m)\u001b[0m\u001b[1;33m\u001b[0m\u001b[0m\n\u001b[0m",
      "\u001b[1;31mAttributeError\u001b[0m: 'HRPOpt' object has no attribute 'portfolio_performance'"
     ]
    }
   ],
   "source": []
  },
  {
   "cell_type": "code",
   "execution_count": null,
   "metadata": {},
   "outputs": [],
   "source": []
  }
 ],
 "metadata": {
  "kernelspec": {
   "display_name": "Python 3",
   "language": "python",
   "name": "python3"
  },
  "language_info": {
   "codemirror_mode": {
    "name": "ipython",
    "version": 3
   },
   "file_extension": ".py",
   "mimetype": "text/x-python",
   "name": "python",
   "nbconvert_exporter": "python",
   "pygments_lexer": "ipython3",
   "version": "3.7.0"
  }
 },
 "nbformat": 4,
 "nbformat_minor": 2
}
