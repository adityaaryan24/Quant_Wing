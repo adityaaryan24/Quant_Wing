{
  "nbformat": 4,
  "nbformat_minor": 0,
  "metadata": {
    "kernelspec": {
      "display_name": "Python 3",
      "language": "python",
      "name": "python3"
    },
    "language_info": {
      "codemirror_mode": {
        "name": "ipython",
        "version": 3
      },
      "file_extension": ".py",
      "mimetype": "text/x-python",
      "name": "python",
      "nbconvert_exporter": "python",
      "pygments_lexer": "ipython3",
      "version": "3.7.0"
    },
    "colab": {
      "name": "TIP Incomplete.ipynb",
      "provenance": []
    }
  },
  "cells": [
    {
      "cell_type": "code",
      "metadata": {
        "id": "21TzFzdIU_so",
        "colab_type": "code",
        "colab": {}
      },
      "source": [
        "import pandas as pd\n",
        "import numpy as np\n",
        "import matplotlib.pyplot as plt\n",
        "from numpy import exp\n",
        "\n",
        "%matplotlib inline\n",
        "\n",
        "import quandl"
      ],
      "execution_count": 0,
      "outputs": []
    },
    {
      "cell_type": "code",
      "metadata": {
        "id": "vC_Y1deEU_st",
        "colab_type": "code",
        "colab": {}
      },
      "source": [
        "df = quandl.get(\"USTREASURY/YIELD\")"
      ],
      "execution_count": 0,
      "outputs": []
    },
    {
      "cell_type": "code",
      "metadata": {
        "scrolled": true,
        "id": "zNI55P-rU_sw",
        "colab_type": "code",
        "colab": {
          "base_uri": "https://localhost:8080/",
          "height": 225
        },
        "outputId": "c3b97a87-6aba-4197-a76e-bf15f88f1440"
      },
      "source": [
        "df.head()"
      ],
      "execution_count": 67,
      "outputs": [
        {
          "output_type": "execute_result",
          "data": {
            "text/html": [
              "<div>\n",
              "<style scoped>\n",
              "    .dataframe tbody tr th:only-of-type {\n",
              "        vertical-align: middle;\n",
              "    }\n",
              "\n",
              "    .dataframe tbody tr th {\n",
              "        vertical-align: top;\n",
              "    }\n",
              "\n",
              "    .dataframe thead th {\n",
              "        text-align: right;\n",
              "    }\n",
              "</style>\n",
              "<table border=\"1\" class=\"dataframe\">\n",
              "  <thead>\n",
              "    <tr style=\"text-align: right;\">\n",
              "      <th></th>\n",
              "      <th>1 MO</th>\n",
              "      <th>2 MO</th>\n",
              "      <th>3 MO</th>\n",
              "      <th>6 MO</th>\n",
              "      <th>1 YR</th>\n",
              "      <th>2 YR</th>\n",
              "      <th>3 YR</th>\n",
              "      <th>5 YR</th>\n",
              "      <th>7 YR</th>\n",
              "      <th>10 YR</th>\n",
              "      <th>20 YR</th>\n",
              "      <th>30 YR</th>\n",
              "    </tr>\n",
              "    <tr>\n",
              "      <th>Date</th>\n",
              "      <th></th>\n",
              "      <th></th>\n",
              "      <th></th>\n",
              "      <th></th>\n",
              "      <th></th>\n",
              "      <th></th>\n",
              "      <th></th>\n",
              "      <th></th>\n",
              "      <th></th>\n",
              "      <th></th>\n",
              "      <th></th>\n",
              "      <th></th>\n",
              "    </tr>\n",
              "  </thead>\n",
              "  <tbody>\n",
              "    <tr>\n",
              "      <th>1990-01-02</th>\n",
              "      <td>NaN</td>\n",
              "      <td>NaN</td>\n",
              "      <td>7.83</td>\n",
              "      <td>7.89</td>\n",
              "      <td>7.81</td>\n",
              "      <td>7.87</td>\n",
              "      <td>7.90</td>\n",
              "      <td>7.87</td>\n",
              "      <td>7.98</td>\n",
              "      <td>7.94</td>\n",
              "      <td>NaN</td>\n",
              "      <td>8.00</td>\n",
              "    </tr>\n",
              "    <tr>\n",
              "      <th>1990-01-03</th>\n",
              "      <td>NaN</td>\n",
              "      <td>NaN</td>\n",
              "      <td>7.89</td>\n",
              "      <td>7.94</td>\n",
              "      <td>7.85</td>\n",
              "      <td>7.94</td>\n",
              "      <td>7.96</td>\n",
              "      <td>7.92</td>\n",
              "      <td>8.04</td>\n",
              "      <td>7.99</td>\n",
              "      <td>NaN</td>\n",
              "      <td>8.04</td>\n",
              "    </tr>\n",
              "    <tr>\n",
              "      <th>1990-01-04</th>\n",
              "      <td>NaN</td>\n",
              "      <td>NaN</td>\n",
              "      <td>7.84</td>\n",
              "      <td>7.90</td>\n",
              "      <td>7.82</td>\n",
              "      <td>7.92</td>\n",
              "      <td>7.93</td>\n",
              "      <td>7.91</td>\n",
              "      <td>8.02</td>\n",
              "      <td>7.98</td>\n",
              "      <td>NaN</td>\n",
              "      <td>8.04</td>\n",
              "    </tr>\n",
              "    <tr>\n",
              "      <th>1990-01-05</th>\n",
              "      <td>NaN</td>\n",
              "      <td>NaN</td>\n",
              "      <td>7.79</td>\n",
              "      <td>7.85</td>\n",
              "      <td>7.79</td>\n",
              "      <td>7.90</td>\n",
              "      <td>7.94</td>\n",
              "      <td>7.92</td>\n",
              "      <td>8.03</td>\n",
              "      <td>7.99</td>\n",
              "      <td>NaN</td>\n",
              "      <td>8.06</td>\n",
              "    </tr>\n",
              "    <tr>\n",
              "      <th>1990-01-08</th>\n",
              "      <td>NaN</td>\n",
              "      <td>NaN</td>\n",
              "      <td>7.79</td>\n",
              "      <td>7.88</td>\n",
              "      <td>7.81</td>\n",
              "      <td>7.90</td>\n",
              "      <td>7.95</td>\n",
              "      <td>7.92</td>\n",
              "      <td>8.05</td>\n",
              "      <td>8.02</td>\n",
              "      <td>NaN</td>\n",
              "      <td>8.09</td>\n",
              "    </tr>\n",
              "  </tbody>\n",
              "</table>\n",
              "</div>"
            ],
            "text/plain": [
              "            1 MO  2 MO  3 MO  6 MO  1 YR  ...  5 YR  7 YR  10 YR  20 YR  30 YR\n",
              "Date                                      ...                                 \n",
              "1990-01-02   NaN   NaN  7.83  7.89  7.81  ...  7.87  7.98   7.94    NaN   8.00\n",
              "1990-01-03   NaN   NaN  7.89  7.94  7.85  ...  7.92  8.04   7.99    NaN   8.04\n",
              "1990-01-04   NaN   NaN  7.84  7.90  7.82  ...  7.91  8.02   7.98    NaN   8.04\n",
              "1990-01-05   NaN   NaN  7.79  7.85  7.79  ...  7.92  8.03   7.99    NaN   8.06\n",
              "1990-01-08   NaN   NaN  7.79  7.88  7.81  ...  7.92  8.05   8.02    NaN   8.09\n",
              "\n",
              "[5 rows x 12 columns]"
            ]
          },
          "metadata": {
            "tags": []
          },
          "execution_count": 67
        }
      ]
    },
    {
      "cell_type": "code",
      "metadata": {
        "id": "8My0QSHbU_s0",
        "colab_type": "code",
        "colab": {
          "base_uri": "https://localhost:8080/",
          "height": 246
        },
        "outputId": "01cc2346-af60-4361-93bc-4291bbfab773"
      },
      "source": [
        "df.count()"
      ],
      "execution_count": 68,
      "outputs": [
        {
          "output_type": "execute_result",
          "data": {
            "text/plain": [
              "1 MO     4573\n",
              "2 MO      268\n",
              "3 MO     7469\n",
              "6 MO     7472\n",
              "1 YR     7472\n",
              "2 YR     7472\n",
              "3 YR     7472\n",
              "5 YR     7472\n",
              "7 YR     7472\n",
              "10 YR    7472\n",
              "20 YR    6533\n",
              "30 YR    6478\n",
              "dtype: int64"
            ]
          },
          "metadata": {
            "tags": []
          },
          "execution_count": 68
        }
      ]
    },
    {
      "cell_type": "code",
      "metadata": {
        "id": "hv5OjSPzU_s3",
        "colab_type": "code",
        "colab": {}
      },
      "source": [
        "df = df.drop([\"2 MO\"],  axis =1)"
      ],
      "execution_count": 0,
      "outputs": []
    },
    {
      "cell_type": "code",
      "metadata": {
        "id": "A50Fh9RSU_s6",
        "colab_type": "code",
        "colab": {}
      },
      "source": [
        "df = df.drop([\"1 MO\"], axis = 1 )"
      ],
      "execution_count": 0,
      "outputs": []
    },
    {
      "cell_type": "code",
      "metadata": {
        "id": "7vzXgn4EU_s9",
        "colab_type": "code",
        "colab": {
          "base_uri": "https://localhost:8080/",
          "height": 210
        },
        "outputId": "bfcd8e19-7d98-4a35-ae8b-185f7420307a"
      },
      "source": [
        "df.count()"
      ],
      "execution_count": 71,
      "outputs": [
        {
          "output_type": "execute_result",
          "data": {
            "text/plain": [
              "3 MO     7469\n",
              "6 MO     7472\n",
              "1 YR     7472\n",
              "2 YR     7472\n",
              "3 YR     7472\n",
              "5 YR     7472\n",
              "7 YR     7472\n",
              "10 YR    7472\n",
              "20 YR    6533\n",
              "30 YR    6478\n",
              "dtype: int64"
            ]
          },
          "metadata": {
            "tags": []
          },
          "execution_count": 71
        }
      ]
    },
    {
      "cell_type": "code",
      "metadata": {
        "id": "SjZC_gZRU_tA",
        "colab_type": "code",
        "colab": {}
      },
      "source": [
        "df = df.dropna()"
      ],
      "execution_count": 0,
      "outputs": []
    },
    {
      "cell_type": "code",
      "metadata": {
        "id": "9SrjS06sU_tC",
        "colab_type": "code",
        "colab": {
          "base_uri": "https://localhost:8080/",
          "height": 210
        },
        "outputId": "75ad76fb-397d-4c60-d2ee-d9a435663323"
      },
      "source": [
        "df.count()"
      ],
      "execution_count": 73,
      "outputs": [
        {
          "output_type": "execute_result",
          "data": {
            "text/plain": [
              "3 MO     5536\n",
              "6 MO     5536\n",
              "1 YR     5536\n",
              "2 YR     5536\n",
              "3 YR     5536\n",
              "5 YR     5536\n",
              "7 YR     5536\n",
              "10 YR    5536\n",
              "20 YR    5536\n",
              "30 YR    5536\n",
              "dtype: int64"
            ]
          },
          "metadata": {
            "tags": []
          },
          "execution_count": 73
        }
      ]
    },
    {
      "cell_type": "code",
      "metadata": {
        "id": "H_LAUR1AU_tF",
        "colab_type": "code",
        "colab": {
          "base_uri": "https://localhost:8080/",
          "height": 225
        },
        "outputId": "3cb2d56a-ea34-4049-9386-77b159dd5db1"
      },
      "source": [
        "df.head()"
      ],
      "execution_count": 74,
      "outputs": [
        {
          "output_type": "execute_result",
          "data": {
            "text/html": [
              "<div>\n",
              "<style scoped>\n",
              "    .dataframe tbody tr th:only-of-type {\n",
              "        vertical-align: middle;\n",
              "    }\n",
              "\n",
              "    .dataframe tbody tr th {\n",
              "        vertical-align: top;\n",
              "    }\n",
              "\n",
              "    .dataframe thead th {\n",
              "        text-align: right;\n",
              "    }\n",
              "</style>\n",
              "<table border=\"1\" class=\"dataframe\">\n",
              "  <thead>\n",
              "    <tr style=\"text-align: right;\">\n",
              "      <th></th>\n",
              "      <th>3 MO</th>\n",
              "      <th>6 MO</th>\n",
              "      <th>1 YR</th>\n",
              "      <th>2 YR</th>\n",
              "      <th>3 YR</th>\n",
              "      <th>5 YR</th>\n",
              "      <th>7 YR</th>\n",
              "      <th>10 YR</th>\n",
              "      <th>20 YR</th>\n",
              "      <th>30 YR</th>\n",
              "    </tr>\n",
              "    <tr>\n",
              "      <th>Date</th>\n",
              "      <th></th>\n",
              "      <th></th>\n",
              "      <th></th>\n",
              "      <th></th>\n",
              "      <th></th>\n",
              "      <th></th>\n",
              "      <th></th>\n",
              "      <th></th>\n",
              "      <th></th>\n",
              "      <th></th>\n",
              "    </tr>\n",
              "  </thead>\n",
              "  <tbody>\n",
              "    <tr>\n",
              "      <th>1993-10-01</th>\n",
              "      <td>2.98</td>\n",
              "      <td>3.11</td>\n",
              "      <td>3.35</td>\n",
              "      <td>3.84</td>\n",
              "      <td>4.18</td>\n",
              "      <td>4.72</td>\n",
              "      <td>5.03</td>\n",
              "      <td>5.34</td>\n",
              "      <td>6.12</td>\n",
              "      <td>5.98</td>\n",
              "    </tr>\n",
              "    <tr>\n",
              "      <th>1993-10-04</th>\n",
              "      <td>3.02</td>\n",
              "      <td>3.17</td>\n",
              "      <td>3.35</td>\n",
              "      <td>3.85</td>\n",
              "      <td>4.16</td>\n",
              "      <td>4.71</td>\n",
              "      <td>5.04</td>\n",
              "      <td>5.34</td>\n",
              "      <td>6.10</td>\n",
              "      <td>5.99</td>\n",
              "    </tr>\n",
              "    <tr>\n",
              "      <th>1993-10-05</th>\n",
              "      <td>3.06</td>\n",
              "      <td>3.20</td>\n",
              "      <td>3.38</td>\n",
              "      <td>3.86</td>\n",
              "      <td>4.18</td>\n",
              "      <td>4.72</td>\n",
              "      <td>5.05</td>\n",
              "      <td>5.35</td>\n",
              "      <td>6.12</td>\n",
              "      <td>6.01</td>\n",
              "    </tr>\n",
              "    <tr>\n",
              "      <th>1993-10-06</th>\n",
              "      <td>3.04</td>\n",
              "      <td>3.19</td>\n",
              "      <td>3.36</td>\n",
              "      <td>3.85</td>\n",
              "      <td>4.16</td>\n",
              "      <td>4.70</td>\n",
              "      <td>5.05</td>\n",
              "      <td>5.35</td>\n",
              "      <td>6.12</td>\n",
              "      <td>6.01</td>\n",
              "    </tr>\n",
              "    <tr>\n",
              "      <th>1993-10-07</th>\n",
              "      <td>3.05</td>\n",
              "      <td>3.17</td>\n",
              "      <td>3.35</td>\n",
              "      <td>3.83</td>\n",
              "      <td>4.15</td>\n",
              "      <td>4.69</td>\n",
              "      <td>5.05</td>\n",
              "      <td>5.33</td>\n",
              "      <td>6.11</td>\n",
              "      <td>6.01</td>\n",
              "    </tr>\n",
              "  </tbody>\n",
              "</table>\n",
              "</div>"
            ],
            "text/plain": [
              "            3 MO  6 MO  1 YR  2 YR  3 YR  5 YR  7 YR  10 YR  20 YR  30 YR\n",
              "Date                                                                     \n",
              "1993-10-01  2.98  3.11  3.35  3.84  4.18  4.72  5.03   5.34   6.12   5.98\n",
              "1993-10-04  3.02  3.17  3.35  3.85  4.16  4.71  5.04   5.34   6.10   5.99\n",
              "1993-10-05  3.06  3.20  3.38  3.86  4.18  4.72  5.05   5.35   6.12   6.01\n",
              "1993-10-06  3.04  3.19  3.36  3.85  4.16  4.70  5.05   5.35   6.12   6.01\n",
              "1993-10-07  3.05  3.17  3.35  3.83  4.15  4.69  5.05   5.33   6.11   6.01"
            ]
          },
          "metadata": {
            "tags": []
          },
          "execution_count": 74
        }
      ]
    },
    {
      "cell_type": "code",
      "metadata": {
        "id": "p3P_7XGMU_tH",
        "colab_type": "code",
        "colab": {}
      },
      "source": [
        "#def lambda_selection(t):\n",
        "    #lamb_mat = np.arange( 1, 20.5, 0.5)\n",
        "    #lamb_mat = np.reshape(lamb_mat,(-1,1))\n",
        "    #lamb_mat = (np.ones_like(lamb_mat) -  np.exp(-t*lamb_mat))/((t*np.ones_like(lamb_mat)*(lamb_mat))) - np.exp(-t*lamb_mat) \n",
        "    #lamb = lamb_mat[2]\n",
        "    \n",
        "    #return lamb"
      ],
      "execution_count": 0,
      "outputs": []
    },
    {
      "cell_type": "code",
      "metadata": {
        "id": "CN3kBccKU_tK",
        "colab_type": "code",
        "colab": {}
      },
      "source": [
        "import math\n",
        "\n",
        "def constants(lamb, t):\n",
        "    c1 = 1\n",
        "    c2 = (1 - exp(-t * lamb))/(t * lamb)\n",
        "    c3 = (1 - exp(-t * lamb))/(t * lamb) - exp(-t * lamb)\n",
        "    \n",
        "    return c1,c2,c3"
      ],
      "execution_count": 0,
      "outputs": []
    },
    {
      "cell_type": "code",
      "metadata": {
        "id": "CoGeVKwNU_tM",
        "colab_type": "code",
        "colab": {}
      },
      "source": [
        "a2y,b2y,c2y = constants(0.0609,24)"
      ],
      "execution_count": 0,
      "outputs": []
    },
    {
      "cell_type": "code",
      "metadata": {
        "id": "Gr0UmZixU_tO",
        "colab_type": "code",
        "colab": {}
      },
      "source": [
        "a10y,b10y,c10y = constants(.0609,120)"
      ],
      "execution_count": 0,
      "outputs": []
    },
    {
      "cell_type": "code",
      "metadata": {
        "id": "DPGp_HYlU_tR",
        "colab_type": "code",
        "colab": {}
      },
      "source": [
        "a20y,b20y,c20y = constants(.0609,240)\n",
        "a1y,b1y,c1y = constants(.0609,12)\n",
        "a3y,b3y,c3y = constants(.0609,36)\n",
        "a5,b5,c5 = constants(.0609,60)\n",
        "a7,b7,c7 = constants(.0609,84)\n",
        "a3,b3,c3 = constants(.609,3)\n",
        "a6,b6,c6 = constants(.609,6)"
      ],
      "execution_count": 0,
      "outputs": []
    },
    {
      "cell_type": "code",
      "metadata": {
        "id": "0cHqhcPLU_tT",
        "colab_type": "code",
        "colab": {}
      },
      "source": [
        "df['beta_0'] = 0\n",
        "df['beta_1'] = 0\n",
        "df['beta_2'] = 0"
      ],
      "execution_count": 0,
      "outputs": []
    },
    {
      "cell_type": "code",
      "metadata": {
        "scrolled": true,
        "id": "7wlt7SGJU_tW",
        "colab_type": "code",
        "colab": {}
      },
      "source": [
        "#def paramaters(a2,b2,c2,a10,b10,c10,a20,b20,c20):\n",
        "#for i in range(len(df)):\n",
        " #   y1 = df['2 YR'].iloc[i]\n",
        "  #  y2 = df['10 YR'].iloc[i]\n",
        "   # y3 = df['20 YR'].iloc[i]\n",
        "    #    \n",
        "    #A = np.array([[a2,b2,c2],[a10,b10,c10],[a20,b20,c20]])\n",
        "    #b = np.array([y1,y2,y3])\n",
        "    #beta = np.linalg.solve(A,b)\n",
        "    \n",
        "    #df['beta_0'].iloc[i] = beta[0]\n",
        "    #df['beta_1'].iloc[i] = beta[1]\n",
        "    #df['beta_2'].iloc[i] = beta[2]"
      ],
      "execution_count": 0,
      "outputs": []
    },
    {
      "cell_type": "code",
      "metadata": {
        "id": "odrtIRODU_tY",
        "colab_type": "code",
        "colab": {}
      },
      "source": [
        "import statsmodels.api as sm\n",
        "def parameters(a2y,b2y,c2y,a10y,b10y,c10y,a20y,b20y,c20y,a3y,b3y,c3y,a5,b5,c5,a7,b7,c7,a1y,b1y,c1y,a3,b3,c3,a6,b6,c6):\n",
        "    for i in range(len(df)):\n",
        "        y1 = df['2 YR'].iloc[i]\n",
        "        y2 = df['10 YR'].iloc[i]\n",
        "        y3 = df['20 YR'].iloc[i]\n",
        "        y4 = df['3 YR'].iloc[i]\n",
        "        y5 = df['5 YR'].iloc[i]\n",
        "        y6 = df['7 YR'].iloc[i]\n",
        "        y7 = df['1 YR'].iloc[i]\n",
        "        y8 = df['3 MO'].iloc[i]\n",
        "        y9 = df['6 MO'].iloc[i]\n",
        "    \n",
        "        y = np.array([y1,y2,y3,y4,y5,y6,y7,y8,y9])\n",
        "        y = np.reshape(y,(-1,1))\n",
        "\n",
        "        X = np.array([[a2y,b2y,c2y],[a10y,b10y,c10y],[a20y,b20y,c20y],\n",
        "                      [a3y,b3y,c3y],[a5,b5,c5],[a7,b7,c7],[a1y,b1y,c1y],\n",
        "                      [a3,b3,c3],[a6,b6,c6]])\n",
        "\n",
        "        X = sm.add_constant(X)\n",
        "\n",
        "        est = sm.OLS(y,X)\n",
        "        est = est.fit()\n",
        "\n",
        "        df['beta_0'].iloc[i] = est.params[0]\n",
        "        df['beta_1'].iloc[i] = est.params[1]\n",
        "        df['beta_2'].iloc[i] = est.params[2]"
      ],
      "execution_count": 0,
      "outputs": []
    },
    {
      "cell_type": "code",
      "metadata": {
        "id": "MuwP4YsvU_tc",
        "colab_type": "code",
        "colab": {
          "base_uri": "https://localhost:8080/",
          "height": 105
        },
        "outputId": "27f14c59-c353-4005-b306-b64fdece4fe2"
      },
      "source": [
        "parameters(a2y,b2y,c2y,a10y,b10y,c10y,a20y,b20y,c20y,a3y,b3y,c3y,a5,b5,c5,a7,b7,c7,a1y,b1y,c1y,a3,b3,c3,a6,b6,c6)"
      ],
      "execution_count": 83,
      "outputs": [
        {
          "output_type": "stream",
          "text": [
            "/usr/local/lib/python3.6/dist-packages/pandas/core/indexing.py:205: SettingWithCopyWarning: \n",
            "A value is trying to be set on a copy of a slice from a DataFrame\n",
            "\n",
            "See the caveats in the documentation: http://pandas.pydata.org/pandas-docs/stable/user_guide/indexing.html#returning-a-view-versus-a-copy\n",
            "  self._setitem_with_indexer(indexer, value)\n"
          ],
          "name": "stderr"
        }
      ]
    },
    {
      "cell_type": "code",
      "metadata": {
        "id": "gJMCcvf5U_th",
        "colab_type": "code",
        "colab": {
          "base_uri": "https://localhost:8080/",
          "height": 225
        },
        "outputId": "687ab8fc-7397-4f06-a99d-bd57fd892240"
      },
      "source": [
        "df.head()"
      ],
      "execution_count": 84,
      "outputs": [
        {
          "output_type": "execute_result",
          "data": {
            "text/html": [
              "<div>\n",
              "<style scoped>\n",
              "    .dataframe tbody tr th:only-of-type {\n",
              "        vertical-align: middle;\n",
              "    }\n",
              "\n",
              "    .dataframe tbody tr th {\n",
              "        vertical-align: top;\n",
              "    }\n",
              "\n",
              "    .dataframe thead th {\n",
              "        text-align: right;\n",
              "    }\n",
              "</style>\n",
              "<table border=\"1\" class=\"dataframe\">\n",
              "  <thead>\n",
              "    <tr style=\"text-align: right;\">\n",
              "      <th></th>\n",
              "      <th>3 MO</th>\n",
              "      <th>6 MO</th>\n",
              "      <th>1 YR</th>\n",
              "      <th>2 YR</th>\n",
              "      <th>3 YR</th>\n",
              "      <th>5 YR</th>\n",
              "      <th>7 YR</th>\n",
              "      <th>10 YR</th>\n",
              "      <th>20 YR</th>\n",
              "      <th>30 YR</th>\n",
              "      <th>beta_0</th>\n",
              "      <th>beta_1</th>\n",
              "      <th>beta_2</th>\n",
              "    </tr>\n",
              "    <tr>\n",
              "      <th>Date</th>\n",
              "      <th></th>\n",
              "      <th></th>\n",
              "      <th></th>\n",
              "      <th></th>\n",
              "      <th></th>\n",
              "      <th></th>\n",
              "      <th></th>\n",
              "      <th></th>\n",
              "      <th></th>\n",
              "      <th></th>\n",
              "      <th></th>\n",
              "      <th></th>\n",
              "      <th></th>\n",
              "    </tr>\n",
              "  </thead>\n",
              "  <tbody>\n",
              "    <tr>\n",
              "      <th>1993-10-01</th>\n",
              "      <td>2.98</td>\n",
              "      <td>3.11</td>\n",
              "      <td>3.35</td>\n",
              "      <td>3.84</td>\n",
              "      <td>4.18</td>\n",
              "      <td>4.72</td>\n",
              "      <td>5.03</td>\n",
              "      <td>5.34</td>\n",
              "      <td>6.12</td>\n",
              "      <td>5.98</td>\n",
              "      <td>6.666589</td>\n",
              "      <td>-1.943584</td>\n",
              "      <td>-7.765616</td>\n",
              "    </tr>\n",
              "    <tr>\n",
              "      <th>1993-10-04</th>\n",
              "      <td>3.02</td>\n",
              "      <td>3.17</td>\n",
              "      <td>3.35</td>\n",
              "      <td>3.85</td>\n",
              "      <td>4.16</td>\n",
              "      <td>4.71</td>\n",
              "      <td>5.04</td>\n",
              "      <td>5.34</td>\n",
              "      <td>6.10</td>\n",
              "      <td>5.99</td>\n",
              "      <td>6.644550</td>\n",
              "      <td>-1.975793</td>\n",
              "      <td>-7.581481</td>\n",
              "    </tr>\n",
              "    <tr>\n",
              "      <th>1993-10-05</th>\n",
              "      <td>3.06</td>\n",
              "      <td>3.20</td>\n",
              "      <td>3.38</td>\n",
              "      <td>3.86</td>\n",
              "      <td>4.18</td>\n",
              "      <td>4.72</td>\n",
              "      <td>5.05</td>\n",
              "      <td>5.35</td>\n",
              "      <td>6.12</td>\n",
              "      <td>6.01</td>\n",
              "      <td>6.656880</td>\n",
              "      <td>-1.952744</td>\n",
              "      <td>-7.581914</td>\n",
              "    </tr>\n",
              "    <tr>\n",
              "      <th>1993-10-06</th>\n",
              "      <td>3.04</td>\n",
              "      <td>3.19</td>\n",
              "      <td>3.36</td>\n",
              "      <td>3.85</td>\n",
              "      <td>4.16</td>\n",
              "      <td>4.70</td>\n",
              "      <td>5.05</td>\n",
              "      <td>5.35</td>\n",
              "      <td>6.12</td>\n",
              "      <td>6.01</td>\n",
              "      <td>6.664764</td>\n",
              "      <td>-1.969146</td>\n",
              "      <td>-7.642901</td>\n",
              "    </tr>\n",
              "    <tr>\n",
              "      <th>1993-10-07</th>\n",
              "      <td>3.05</td>\n",
              "      <td>3.17</td>\n",
              "      <td>3.35</td>\n",
              "      <td>3.83</td>\n",
              "      <td>4.15</td>\n",
              "      <td>4.69</td>\n",
              "      <td>5.05</td>\n",
              "      <td>5.33</td>\n",
              "      <td>6.11</td>\n",
              "      <td>6.01</td>\n",
              "      <td>6.649469</td>\n",
              "      <td>-1.970819</td>\n",
              "      <td>-7.616373</td>\n",
              "    </tr>\n",
              "  </tbody>\n",
              "</table>\n",
              "</div>"
            ],
            "text/plain": [
              "            3 MO  6 MO  1 YR  2 YR  ...  30 YR    beta_0    beta_1    beta_2\n",
              "Date                                ...                                     \n",
              "1993-10-01  2.98  3.11  3.35  3.84  ...   5.98  6.666589 -1.943584 -7.765616\n",
              "1993-10-04  3.02  3.17  3.35  3.85  ...   5.99  6.644550 -1.975793 -7.581481\n",
              "1993-10-05  3.06  3.20  3.38  3.86  ...   6.01  6.656880 -1.952744 -7.581914\n",
              "1993-10-06  3.04  3.19  3.36  3.85  ...   6.01  6.664764 -1.969146 -7.642901\n",
              "1993-10-07  3.05  3.17  3.35  3.83  ...   6.01  6.649469 -1.970819 -7.616373\n",
              "\n",
              "[5 rows x 13 columns]"
            ]
          },
          "metadata": {
            "tags": []
          },
          "execution_count": 84
        }
      ]
    },
    {
      "cell_type": "code",
      "metadata": {
        "id": "F57UAT_rU_tn",
        "colab_type": "code",
        "colab": {
          "base_uri": "https://localhost:8080/",
          "height": 367
        },
        "outputId": "623f774c-5f03-43b3-f311-ccddda95f12b"
      },
      "source": [
        "df['beta_0'].plot(figsize = (10,6))\n",
        "plt.xlabel(\"Date\")\n",
        "plt.ylabel(\"beta_0\")\n",
        "plt.show()"
      ],
      "execution_count": 85,
      "outputs": [
        {
          "output_type": "display_data",
          "data": {
            "image/png": "[encoded data removed]",
            "text/plain": [
              "<Figure size 720x432 with 1 Axes>"
            ]
          },
          "metadata": {
            "tags": []
          }
        }
      ]
    },
    {
      "cell_type": "code",
      "metadata": {
        "id": "MQTcjntuU_ts",
        "colab_type": "code",
        "colab": {
          "base_uri": "https://localhost:8080/",
          "height": 367
        },
        "outputId": "beef3f5d-22a9-4cf3-865d-cd4518d5045e"
      },
      "source": [
        "df['beta_1'].plot(figsize = (10,6))\n",
        "plt.xlabel(\"Date\")\n",
        "plt.ylabel(\"beta 1\")\n",
        "plt.show()"
      ],
      "execution_count": 86,
      "outputs": [
        {
          "output_type": "display_data",
          "data": {
            "image/png": "[encoded data removed]",
            "text/plain": [
              "<Figure size 720x432 with 1 Axes>"
            ]
          },
          "metadata": {
            "tags": []
          }
        }
      ]
    },
    {
      "cell_type": "code",
      "metadata": {
        "id": "SAhDT1u3U_tx",
        "colab_type": "code",
        "colab": {
          "base_uri": "https://localhost:8080/",
          "height": 367
        },
        "outputId": "4a2ba3d0-bc4d-4880-ebd5-aee70015f451"
      },
      "source": [
        "df['beta_2'].plot(figsize = (10,6))\n",
        "plt.xlabel(\"Date\")\n",
        "plt.ylabel(\"beta_2\")\n",
        "plt.show()"
      ],
      "execution_count": 87,
      "outputs": [
        {
          "output_type": "display_data",
          "data": {
            "image/png": "[encoded data removed]",
            "text/plain": [
              "<Figure size 720x432 with 1 Axes>"
            ]
          },
          "metadata": {
            "tags": []
          }
        }
      ]
    },
    {
      "cell_type": "code",
      "metadata": {
        "id": "D0sVU1GMU_t1",
        "colab_type": "code",
        "colab": {
          "base_uri": "https://localhost:8080/",
          "height": 431
        },
        "outputId": "33f6256d-8208-41a2-d984-343cf9680b15"
      },
      "source": [
        "#Normalising Data\n",
        "df.iloc[:,10:]"
      ],
      "execution_count": 88,
      "outputs": [
        {
          "output_type": "execute_result",
          "data": {
            "text/html": [
              "<div>\n",
              "<style scoped>\n",
              "    .dataframe tbody tr th:only-of-type {\n",
              "        vertical-align: middle;\n",
              "    }\n",
              "\n",
              "    .dataframe tbody tr th {\n",
              "        vertical-align: top;\n",
              "    }\n",
              "\n",
              "    .dataframe thead th {\n",
              "        text-align: right;\n",
              "    }\n",
              "</style>\n",
              "<table border=\"1\" class=\"dataframe\">\n",
              "  <thead>\n",
              "    <tr style=\"text-align: right;\">\n",
              "      <th></th>\n",
              "      <th>beta_0</th>\n",
              "      <th>beta_1</th>\n",
              "      <th>beta_2</th>\n",
              "    </tr>\n",
              "    <tr>\n",
              "      <th>Date</th>\n",
              "      <th></th>\n",
              "      <th></th>\n",
              "      <th></th>\n",
              "    </tr>\n",
              "  </thead>\n",
              "  <tbody>\n",
              "    <tr>\n",
              "      <th>1993-10-01</th>\n",
              "      <td>6.666589</td>\n",
              "      <td>-1.943584</td>\n",
              "      <td>-7.765616</td>\n",
              "    </tr>\n",
              "    <tr>\n",
              "      <th>1993-10-04</th>\n",
              "      <td>6.644550</td>\n",
              "      <td>-1.975793</td>\n",
              "      <td>-7.581481</td>\n",
              "    </tr>\n",
              "    <tr>\n",
              "      <th>1993-10-05</th>\n",
              "      <td>6.656880</td>\n",
              "      <td>-1.952744</td>\n",
              "      <td>-7.581914</td>\n",
              "    </tr>\n",
              "    <tr>\n",
              "      <th>1993-10-06</th>\n",
              "      <td>6.664764</td>\n",
              "      <td>-1.969146</td>\n",
              "      <td>-7.642901</td>\n",
              "    </tr>\n",
              "    <tr>\n",
              "      <th>1993-10-07</th>\n",
              "      <td>6.649469</td>\n",
              "      <td>-1.970819</td>\n",
              "      <td>-7.616373</td>\n",
              "    </tr>\n",
              "    <tr>\n",
              "      <th>...</th>\n",
              "      <td>...</td>\n",
              "      <td>...</td>\n",
              "      <td>...</td>\n",
              "    </tr>\n",
              "    <tr>\n",
              "      <th>2019-11-05</th>\n",
              "      <td>2.220900</td>\n",
              "      <td>-0.082958</td>\n",
              "      <td>-2.141394</td>\n",
              "    </tr>\n",
              "    <tr>\n",
              "      <th>2019-11-06</th>\n",
              "      <td>2.158915</td>\n",
              "      <td>-0.108348</td>\n",
              "      <td>-1.952817</td>\n",
              "    </tr>\n",
              "    <tr>\n",
              "      <th>2019-11-07</th>\n",
              "      <td>2.283254</td>\n",
              "      <td>-0.274315</td>\n",
              "      <td>-1.950714</td>\n",
              "    </tr>\n",
              "    <tr>\n",
              "      <th>2019-11-08</th>\n",
              "      <td>2.323858</td>\n",
              "      <td>-0.285491</td>\n",
              "      <td>-2.087325</td>\n",
              "    </tr>\n",
              "    <tr>\n",
              "      <th>2019-11-12</th>\n",
              "      <td>2.282163</td>\n",
              "      <td>-0.280528</td>\n",
              "      <td>-1.936297</td>\n",
              "    </tr>\n",
              "  </tbody>\n",
              "</table>\n",
              "<p>5536 rows × 3 columns</p>\n",
              "</div>"
            ],
            "text/plain": [
              "              beta_0    beta_1    beta_2\n",
              "Date                                    \n",
              "1993-10-01  6.666589 -1.943584 -7.765616\n",
              "1993-10-04  6.644550 -1.975793 -7.581481\n",
              "1993-10-05  6.656880 -1.952744 -7.581914\n",
              "1993-10-06  6.664764 -1.969146 -7.642901\n",
              "1993-10-07  6.649469 -1.970819 -7.616373\n",
              "...              ...       ...       ...\n",
              "2019-11-05  2.220900 -0.082958 -2.141394\n",
              "2019-11-06  2.158915 -0.108348 -1.952817\n",
              "2019-11-07  2.283254 -0.274315 -1.950714\n",
              "2019-11-08  2.323858 -0.285491 -2.087325\n",
              "2019-11-12  2.282163 -0.280528 -1.936297\n",
              "\n",
              "[5536 rows x 3 columns]"
            ]
          },
          "metadata": {
            "tags": []
          },
          "execution_count": 88
        }
      ]
    },
    {
      "cell_type": "code",
      "metadata": {
        "id": "Lrcv2DrmU_t5",
        "colab_type": "code",
        "colab": {
          "base_uri": "https://localhost:8080/",
          "height": 140
        },
        "outputId": "44e7aaba-2642-4321-b4ae-f3f46674102b"
      },
      "source": [
        "from sklearn.preprocessing import MinMaxScaler\n",
        "\n",
        "input_features = df.iloc[:,10:].values\n",
        "input_data = input_features\n",
        "print(input_data)"
      ],
      "execution_count": 89,
      "outputs": [
        {
          "output_type": "stream",
          "text": [
            "[[ 6.66658893 -1.94358423 -7.76561639]\n",
            " [ 6.64454955 -1.97579251 -7.58148149]\n",
            " [ 6.65687992 -1.95274401 -7.5819138 ]\n",
            " ...\n",
            " [ 2.28325425 -0.27431452 -1.95071406]\n",
            " [ 2.32385823 -0.28549075 -2.08732486]\n",
            " [ 2.28216346 -0.28052841 -1.93629654]]\n"
          ],
          "name": "stdout"
        }
      ]
    },
    {
      "cell_type": "code",
      "metadata": {
        "id": "QEXccZbnU_t9",
        "colab_type": "code",
        "colab": {}
      },
      "source": [
        "sc = MinMaxScaler(feature_range = (0,1))\n",
        "input_data[:,0:3] = sc.fit_transform(input_features[:,:])"
      ],
      "execution_count": 0,
      "outputs": []
    },
    {
      "cell_type": "code",
      "metadata": {
        "id": "gsQEvk6iU_uC",
        "colab_type": "code",
        "colab": {
          "base_uri": "https://localhost:8080/",
          "height": 140
        },
        "outputId": "e95148de-2687-4bdc-f5f1-c199d7edd0dc"
      },
      "source": [
        "input_data"
      ],
      "execution_count": 91,
      "outputs": [
        {
          "output_type": "execute_result",
          "data": {
            "text/plain": [
              "array([[0.69120055, 0.39939833, 0.36212712],\n",
              "       [0.68817898, 0.39179372, 0.37477972],\n",
              "       [0.68986946, 0.39723564, 0.37475002],\n",
              "       ...,\n",
              "       [0.09025215, 0.79352508, 0.76169083],\n",
              "       [0.09581889, 0.79088629, 0.75230379],\n",
              "       [0.09010261, 0.79205793, 0.76268151]])"
            ]
          },
          "metadata": {
            "tags": []
          },
          "execution_count": 91
        }
      ]
    },
    {
      "cell_type": "code",
      "metadata": {
        "id": "dyQ7j2pkU_uG",
        "colab_type": "code",
        "colab": {}
      },
      "source": [
        "#The parameter in y will change depending on what you will be predicting.\n",
        "\n",
        "lookback = 50\n",
        "\n",
        "test_size = int(.3*len(df))\n",
        "X = []\n",
        "y = []\n",
        "\n",
        "for i  in range(len(df) - lookback - 1):\n",
        "    t = []\n",
        "    for j in range(0,lookback):\n",
        "        \n",
        "        t.append(input_data[[(i+j)], :])\n",
        "    X.append(t)\n",
        "    y.append(input_data[i+ lookback,2])"
      ],
      "execution_count": 0,
      "outputs": []
    },
    {
      "cell_type": "code",
      "metadata": {
        "id": "qzd6tJEcU_uU",
        "colab_type": "code",
        "colab": {
          "base_uri": "https://localhost:8080/",
          "height": 52
        },
        "outputId": "e991f050-1079-44fd-fa36-5c534816b98e"
      },
      "source": [
        "X, y= np.array(X), np.array(y)\n",
        "X_test = X[:test_size+lookback]\n",
        "X = X.reshape(X.shape[0],lookback, 3)\n",
        "X_test = X_test.reshape(X_test.shape[0],lookback, 3)\n",
        "print(X.shape)\n",
        "print(X_test.shape)"
      ],
      "execution_count": 122,
      "outputs": [
        {
          "output_type": "stream",
          "text": [
            "(5485, 50, 3)\n",
            "(1710, 50, 3)\n"
          ],
          "name": "stdout"
        }
      ]
    },
    {
      "cell_type": "code",
      "metadata": {
        "id": "sL8BMdbGU_uY",
        "colab_type": "code",
        "colab": {}
      },
      "source": [
        "import tensorflow as tf\n",
        "from keras import Sequential\n",
        "\n",
        "from keras.layers import Dense,LSTM,Dropout"
      ],
      "execution_count": 0,
      "outputs": []
    },
    {
      "cell_type": "code",
      "metadata": {
        "id": "7zx2QdqOWxJ-",
        "colab_type": "code",
        "colab": {
          "base_uri": "https://localhost:8080/",
          "height": 474
        },
        "outputId": "8944a428-8f42-43f4-fca0-de7431425f55"
      },
      "source": [
        "model = Sequential()\n",
        "model.add(LSTM(units = 200,return_sequences=True,input_shape = (X.shape[1],3)))\n",
        "model.add(Dropout(0.1))\n",
        "\n",
        "model.add(LSTM(units = 200, return_sequences=True))\n",
        "model.add(Dropout(0.1))\n",
        "\n",
        "model.add(LSTM(units = 200, return_sequences=True))\n",
        "model.add(Dropout(0.1))\n",
        "\n",
        "model.add(LSTM(units = 200))\n",
        "model.add(Dropout(0.1))\n",
        "\n",
        "model.add(Dense(units = 1,activation= 'linear'))\n",
        "\n",
        "model.summary()"
      ],
      "execution_count": 124,
      "outputs": [
        {
          "output_type": "stream",
          "text": [
            "Model: \"sequential_6\"\n",
            "_________________________________________________________________\n",
            "Layer (type)                 Output Shape              Param #   \n",
            "=================================================================\n",
            "lstm_21 (LSTM)               (None, 50, 200)           163200    \n",
            "_________________________________________________________________\n",
            "dropout_20 (Dropout)         (None, 50, 200)           0         \n",
            "_________________________________________________________________\n",
            "lstm_22 (LSTM)               (None, 50, 200)           320800    \n",
            "_________________________________________________________________\n",
            "dropout_21 (Dropout)         (None, 50, 200)           0         \n",
            "_________________________________________________________________\n",
            "lstm_23 (LSTM)               (None, 50, 200)           320800    \n",
            "_________________________________________________________________\n",
            "dropout_22 (Dropout)         (None, 50, 200)           0         \n",
            "_________________________________________________________________\n",
            "lstm_24 (LSTM)               (None, 200)               320800    \n",
            "_________________________________________________________________\n",
            "dropout_23 (Dropout)         (None, 200)               0         \n",
            "_________________________________________________________________\n",
            "dense_5 (Dense)              (None, 1)                 201       \n",
            "=================================================================\n",
            "Total params: 1,125,801\n",
            "Trainable params: 1,125,801\n",
            "Non-trainable params: 0\n",
            "_________________________________________________________________\n"
          ],
          "name": "stdout"
        }
      ]
    },
    {
      "cell_type": "code",
      "metadata": {
        "id": "FMSgnnEaZ9Z4",
        "colab_type": "code",
        "colab": {}
      },
      "source": [
        "model.compile(optimizer='adam', loss = 'mse')"
      ],
      "execution_count": 0,
      "outputs": []
    },
    {
      "cell_type": "code",
      "metadata": {
        "id": "0cUpTgFnuk01",
        "colab_type": "code",
        "colab": {
          "base_uri": "https://localhost:8080/",
          "height": 70
        },
        "outputId": "d8989740-7138-4a1f-bda5-1884762385d6"
      },
      "source": [
        "model.fit(X,y,epochs = 1, batch_size = 32)"
      ],
      "execution_count": 126,
      "outputs": [
        {
          "output_type": "stream",
          "text": [
            "Epoch 1/1\n",
            "5485/5485 [==============================] - 91s 17ms/step - loss: 0.0186\n"
          ],
          "name": "stdout"
        },
        {
          "output_type": "execute_result",
          "data": {
            "text/plain": [
              "<keras.callbacks.History at 0x7f876cef8278>"
            ]
          },
          "metadata": {
            "tags": []
          },
          "execution_count": 126
        }
      ]
    },
    {
      "cell_type": "code",
      "metadata": {
        "id": "E8JPkWYwumz0",
        "colab_type": "code",
        "colab": {}
      },
      "source": [
        "predicted_value = model.predict(X_test)"
      ],
      "execution_count": 0,
      "outputs": []
    },
    {
      "cell_type": "code",
      "metadata": {
        "id": "4mZcVXlKwTLh",
        "colab_type": "code",
        "colab": {
          "base_uri": "https://localhost:8080/",
          "height": 34
        },
        "outputId": "918516d4-4ac4-4a28-a9bf-374596ee1237"
      },
      "source": [
        "type(predicted_value)"
      ],
      "execution_count": 128,
      "outputs": [
        {
          "output_type": "execute_result",
          "data": {
            "text/plain": [
              "numpy.ndarray"
            ]
          },
          "metadata": {
            "tags": []
          },
          "execution_count": 128
        }
      ]
    },
    {
      "cell_type": "code",
      "metadata": {
        "id": "aALbLPjmwWoX",
        "colab_type": "code",
        "colab": {
          "base_uri": "https://localhost:8080/",
          "height": 140
        },
        "outputId": "c07bcc4a-9c5b-464d-c73d-fdc9b6ca86e6"
      },
      "source": [
        "predicted_value"
      ],
      "execution_count": 129,
      "outputs": [
        {
          "output_type": "execute_result",
          "data": {
            "text/plain": [
              "array([[0.3701961 ],\n",
              "       [0.3714362 ],\n",
              "       [0.37223557],\n",
              "       ...,\n",
              "       [0.87030387],\n",
              "       [0.86933583],\n",
              "       [0.86877173]], dtype=float32)"
            ]
          },
          "metadata": {
            "tags": []
          },
          "execution_count": 129
        }
      ]
    },
    {
      "cell_type": "code",
      "metadata": {
        "id": "TGNfUH-mwYty",
        "colab_type": "code",
        "colab": {
          "base_uri": "https://localhost:8080/",
          "height": 279
        },
        "outputId": "12ec3eb5-5636-45fc-a09e-0a07e922bd16"
      },
      "source": [
        "#For beta_0\n",
        "\n",
        "plt.plot(predicted_value, color='red')\n",
        "plt.plot(input_data[lookback:test_size + (2*lookback),0],color = 'green')\n",
        "plt.xlabel(\"Date\")\n",
        "plt.ylabel(\"beta 0\")\n",
        "\n",
        "plt.show()"
      ],
      "execution_count": 104,
      "outputs": [
        {
          "output_type": "display_data",
          "data": {
            "image/png": "[encoded data removed]",
            "text/plain": [
              "<Figure size 432x288 with 1 Axes>"
            ]
          },
          "metadata": {
            "tags": []
          }
        }
      ]
    },
    {
      "cell_type": "code",
      "metadata": {
        "id": "UHIZCd1rwjnn",
        "colab_type": "code",
        "colab": {
          "base_uri": "https://localhost:8080/",
          "height": 279
        },
        "outputId": "ef646398-3516-4e97-812d-e0f23fc61700"
      },
      "source": [
        "#For beta_1\n",
        "\n",
        "plt.plot(predicted_value, color='red')\n",
        "plt.plot(input_data[lookback:test_size + (2*lookback),1],color = 'green')\n",
        "plt.xlabel(\"Date\")\n",
        "plt.ylabel(\"beta 0\")\n",
        "\n",
        "plt.show()"
      ],
      "execution_count": 120,
      "outputs": [
        {
          "output_type": "display_data",
          "data": {
            "image/png": "[encoded data removed]",
            "text/plain": [
              "<Figure size 432x288 with 1 Axes>"
            ]
          },
          "metadata": {
            "tags": []
          }
        }
      ]
    },
    {
      "cell_type": "code",
      "metadata": {
        "id": "L5qNL6P8xQqX",
        "colab_type": "code",
        "colab": {
          "base_uri": "https://localhost:8080/",
          "height": 279
        },
        "outputId": "4b8c84e7-dab2-4411-8287-71fdad4f5ffe"
      },
      "source": [
        "#For beta_2\n",
        "\n",
        "plt.plot(predicted_value, color='red')\n",
        "plt.plot(input_data[lookback:test_size + (2*lookback),2],color = 'green')\n",
        "plt.xlabel(\"Date\")\n",
        "plt.ylabel(\"beta 2\")\n",
        "\n",
        "plt.show()"
      ],
      "execution_count": 130,
      "outputs": [
        {
          "output_type": "display_data",
          "data": {
            "image/png": "[encoded data removed]",
            "text/plain": [
              "<Figure size 432x288 with 1 Axes>"
            ]
          },
          "metadata": {
            "tags": []
          }
        }
      ]
    },
    {
      "cell_type": "code",
      "metadata": {
        "id": "7dQlqdd-xkCQ",
        "colab_type": "code",
        "colab": {
          "base_uri": "https://localhost:8080/",
          "height": 34
        },
        "outputId": "06a68fcb-7571-4cd5-e471-8419524a5163"
      },
      "source": [
        ""
      ],
      "execution_count": 64,
      "outputs": [
        {
          "output_type": "stream",
          "text": [
            "(5485,)\n"
          ],
          "name": "stdout"
        }
      ]
    },
    {
      "cell_type": "code",
      "metadata": {
        "id": "lFcBXaIb3y0c",
        "colab_type": "code",
        "colab": {}
      },
      "source": [
        ""
      ],
      "execution_count": 0,
      "outputs": []
    }
  ]
}